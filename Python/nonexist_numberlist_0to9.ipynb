{
  "nbformat": 4,
  "nbformat_minor": 0,
  "metadata": {
    "colab": {
      "provenance": []
    },
    "kernelspec": {
      "name": "python3",
      "display_name": "Python 3"
    },
    "language_info": {
      "name": "python"
    }
  },
  "cells": [
    {
      "cell_type": "code",
      "execution_count": 41,
      "metadata": {
        "colab": {
          "base_uri": "https://localhost:8080/"
        },
        "id": "KrEa36w0awMQ",
        "outputId": "a076c6ee-6ce7-48e5-ec52-a1e9b1993e59"
      },
      "outputs": [
        {
          "output_type": "stream",
          "name": "stdout",
          "text": [
            "\n",
            "    In this section, check(x) are used for taking the number that are not exist in list \n",
            "    Example\t: [3, 4, 6]\n",
            "    Result\t: [0, 1, 2, 5, 7, 8, 9]\n",
            "    \n"
          ]
        }
      ],
      "source": [
        "#example\n",
        "def check(x):\n",
        "    newlist = []\n",
        "    anc = [0,1,2,3,4,5,6,7,8,9]\n",
        "    idx = 0\n",
        "    for i in range(len(anc)):\n",
        "      if anc[idx] in x:\n",
        "        idx += 1\n",
        "      else:\n",
        "        newlist.append(anc[idx])\n",
        "        idx += 1\n",
        "    return newlist\n",
        "\n",
        "list1 = [3,4,6]\n",
        "list2 = check(list1)\n",
        "\n",
        "print(\n",
        "    f\"\"\"\n",
        "    In this section, check(x) are used for taking the number that are not exist in list \n",
        "    Example\\t: {list1}\n",
        "    Result\\t: {list2}\n",
        "    \"\"\"\n",
        ")"
      ]
    }
  ]
}