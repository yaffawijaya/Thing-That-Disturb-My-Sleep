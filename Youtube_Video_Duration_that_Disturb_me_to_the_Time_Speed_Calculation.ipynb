{
  "nbformat": 4,
  "nbformat_minor": 0,
  "metadata": {
    "colab": {
      "provenance": [],
      "authorship_tag": "ABX9TyNkkvyc03zZOgtmnDEZbDBx",
      "include_colab_link": true
    },
    "kernelspec": {
      "name": "python3",
      "display_name": "Python 3"
    },
    "language_info": {
      "name": "python"
    }
  },
  "cells": [
    {
      "cell_type": "markdown",
      "metadata": {
        "id": "view-in-github",
        "colab_type": "text"
      },
      "source": [
        "<a href=\"https://colab.research.google.com/github/yaffawijaya/Thing-That-Disturb-My-Sleep/blob/main/Youtube_Video_Duration_that_Disturb_me_to_the_Time_Speed_Calculation.ipynb\" target=\"_parent\"><img src=\"https://colab.research.google.com/assets/colab-badge.svg\" alt=\"Open In Colab\"/></a>"
      ]
    },
    {
      "cell_type": "code",
      "source": [
        "def time_to_minutes(time_str):\n",
        "    hours, minutes, seconds = map(int, time_str.split(\":\"))\n",
        "    total_minutes = hours * 60 + minutes + seconds / 60\n",
        "    return total_minutes\n",
        "\n",
        "def duration_speed(minute, speed):\n",
        "    total = minute * ((100/speed)/100)\n",
        "    return total\n",
        "\n",
        "def minutes_to_time(minutes):\n",
        "    hours = int(minutes // 60)\n",
        "    minutes %= 60\n",
        "    seconds = int((minutes - int(minutes)) * 60)\n",
        "    return f\"{hours:02d}:{int(minutes):02d}:{seconds:02d}\"  # Convert minutes to integer\n",
        "\n",
        "def time_difference(original_minutes, adjusted_minutes):\n",
        "    diff_minutes = abs(original_minutes - adjusted_minutes)\n",
        "    return minutes_to_time(diff_minutes)\n",
        "\n",
        "time_str = str(input(\"\"\"\n",
        "Input your duration time:\n",
        "*example: 01:27:00\n",
        "\n",
        "\"\"\"))\n",
        "original_minutes = time_to_minutes(time_str)\n",
        "\n",
        "speedtime = 1.0\n",
        "while speedtime != 2.25:\n",
        "    adjusted_minutes = duration_speed(original_minutes, speedtime)\n",
        "    adjusted_time = minutes_to_time(adjusted_minutes)\n",
        "    diff_time = time_difference(original_minutes, adjusted_minutes)\n",
        "\n",
        "    print(f\"\\nApproximate duration in {speedtime}x : {adjusted_time}\")\n",
        "    print(f\"You could save time {diff_time}\")\n",
        "\n",
        "    speedtime += 0.25\n"
      ],
      "metadata": {
        "colab": {
          "base_uri": "https://localhost:8080/"
        },
        "id": "3RUrfhFryr7g",
        "outputId": "444e66c8-e05e-4a44-f870-9d4857f6cbbf"
      },
      "execution_count": 32,
      "outputs": [
        {
          "output_type": "stream",
          "name": "stdout",
          "text": [
            "\n",
            "Input your duration time:\n",
            "*example: 01:27:00\n",
            "\n",
            "03:00:00\n",
            "\n",
            "Approximate duration in 1.0x : 03:00:00\n",
            "You could save time 00:00:00\n",
            "\n",
            "Approximate duration in 1.25x : 02:24:00\n",
            "You could save time 00:36:00\n",
            "\n",
            "Approximate duration in 1.5x : 02:00:00\n",
            "You could save time 00:59:59\n",
            "\n",
            "Approximate duration in 1.75x : 01:42:51\n",
            "You could save time 01:17:08\n",
            "\n",
            "Approximate duration in 2.0x : 01:30:00\n",
            "You could save time 01:30:00\n"
          ]
        }
      ]
    }
  ]
}